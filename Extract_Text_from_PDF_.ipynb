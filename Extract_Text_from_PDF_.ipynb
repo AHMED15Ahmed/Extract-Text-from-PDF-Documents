{
  "nbformat": 4,
  "nbformat_minor": 0,
  "metadata": {
    "colab": {
      "provenance": [],
      "toc_visible": true,
      "authorship_tag": "ABX9TyOMu3Xxp/JWhqmZFVtm3Gf2",
      "include_colab_link": true
    },
    "kernelspec": {
      "name": "python3",
      "display_name": "Python 3"
    },
    "language_info": {
      "name": "python"
    }
  },
  "cells": [
    {
      "cell_type": "markdown",
      "metadata": {
        "id": "view-in-github",
        "colab_type": "text"
      },
      "source": [
        "<a href=\"https://colab.research.google.com/github/AHMED15Ahmed/Extract-Text-from-PDF-Documents/blob/main/Extract_Text_from_PDF_.ipynb\" target=\"_parent\"><img src=\"https://colab.research.google.com/assets/colab-badge.svg\" alt=\"Open In Colab\"/></a>"
      ]
    },
    {
      "cell_type": "code",
      "source": [
        "import os \n",
        "cwd = os.getcwd() \n",
        "print(cwd)"
      ],
      "metadata": {
        "colab": {
          "base_uri": "https://localhost:8080/"
        },
        "id": "XBR5NzHHt9hO",
        "outputId": "e79291c6-9bb1-4fd0-835e-fb85bb56aa24"
      },
      "execution_count": 4,
      "outputs": [
        {
          "output_type": "stream",
          "name": "stdout",
          "text": [
            "/content\n"
          ]
        }
      ]
    },
    {
      "cell_type": "code",
      "execution_count": 5,
      "metadata": {
        "colab": {
          "base_uri": "https://localhost:8080/"
        },
        "id": "mQEInQiVs67Y",
        "outputId": "e5ab2275-8b97-4cf7-866d-511c4ffa347d"
      },
      "outputs": [
        {
          "output_type": "stream",
          "name": "stdout",
          "text": [
            "Looking in indexes: https://pypi.org/simple, https://us-python.pkg.dev/colab-wheels/public/simple/\n",
            "Requirement already satisfied: PyPDF2 in /usr/local/lib/python3.9/dist-packages (3.0.1)\n",
            "Requirement already satisfied: typing_extensions>=3.10.0.0 in /usr/local/lib/python3.9/dist-packages (from PyPDF2) (4.5.0)\n",
            "1 \n",
            " L’économie marocaine :  \n",
            "performances macro-économique et polit iques de modernisation sectorielle  \n",
            " \n",
            " \n",
            "Introduction :  \n",
            " \n",
            "L’économie nationale a été marquée, au cours de  ces dernières années, par la poursuite et \n",
            "l’approfondissement des réformes ce qui a pe rmis, en dépit des mutations rapides de \n",
            "l’environnement international et du  contexte de crise financière et économique , de consolider \n",
            "les acquis sans pour autant compromettre la stabilité des équilibres fondamentaux et de \n",
            "renforcer la résilience de l’écon omie marocaine qui lui a permis  de limiter les impacts négatifs \n",
            "de la crise financière et économi que que le monde connaît depuis 2008. \n",
            " Cette période s’est particularisée par un excédent enregistré au ni veau du compte courant de la \n",
            "balance des paiements pour six années successives et  par la maîtrise de l'inflation et du déficit \n",
            "budgétaire témoignant ainsi non seulement du re nforcement de la vigueur de l'économie mais \n",
            "également de sa capacité d'adap tation aux mutations mondiales,  ainsi que par la réduction du \n",
            "poids de la dette publique. \n",
            " \n",
            "I - Evolution structurelle de l’économie marocaine\n",
            " \n",
            "1. Nouveau palier de croissance \n",
            "La croissance économique s’est inscrite dans une tendance ha ussière durant la période 2004-\n",
            "2008 se situant en moyenne à 4,8 % par an après 3,8% entre 1999 et 2003. Cette amélioration \n",
            "qui a concerné la plupart des se cteurs d’activité (en l’occurren ce les mines, le tourisme, les \n",
            "services rendus aux entreprises et aux partic uliers, les activités liées à l’intermédiation \n",
            "financière, les télécommunications et les BTP)  est due à la consolidation de la demande \n",
            "intérieure et à l’accroissement de la contribution de la pro ductivité globale à la croissance. \n",
            " \n",
            "La réalisation de ce nouveau pa lier de croissance s’est accompa gnée par un amorcement d’un  \n",
            "processus de transformation st ructurelle tendant vers une tertiarisation du tissu productif \n",
            "national. Ainsi, la part des activités tertiaires dans  la valeur ajoutée réelle totale s’est renforcée \n",
            "en passant de 52,1% à 56,4% en tre 1998 et 2008 alors que les activités secondaires ont connu \n",
            "une quasi- stagnation de leur poids  dans la valeur ajoutée réelle  totale à 27,5% en 2008 après \n",
            "27,7% en 1998. Quant à la valeur ajoutée du s ecteur primaire (agriculture et pêche), elle a \n",
            "accusé un repli en passant de 20,2% du PI B en 1998 à 16,1% en 2008. Ces résultats \n",
            "témoignent de la diversification des sources de  croissance et de la modernisation du tissu \n",
            "productif national. \n",
            " \n",
            "La consolidation de la nouvelle dynamique dont font preuve les activités  non agricoles est le \n",
            "fruit des différentes réformes st ructurelles et sectorielles mises en œuvre. Il s’agit notamment \n",
            "des contrats-programmes conc lus avec les opérateurs privés, du soutien financier à \n"
          ]
        }
      ],
      "source": [
        "!pip install PyPDF2\n",
        "from PyPDF2 import PdfReader\n",
        "\n",
        "reader = PdfReader(\"sample_data/maroc.pdf\")\n",
        "#reader = PdfReader(\"sample_data/chatgpt_2023.pdf\") other exemple for Testing \n",
        "page = reader.pages[0]\n",
        "print(page.extract_text()) #Extract frist page"
      ]
    },
    {
      "cell_type": "code",
      "source": [
        "!pip install PyPDF2==3.0.1\n",
        "!pip install typing-extensions\n",
        "from PyPDF2 import PdfReader\n",
        "reader =PdfReader('maroc.pdf')\n",
        "print(reader.pages.length_function())\n",
        "print(\"///\"*5)\n",
        "page1=reader.pages[1].extract_text()\n",
        "print(page1)\n",
        "str=\"\"\n",
        "for i in range(1,5):\n",
        "    str+=a.pages[i].extract_text()\n",
        "with open(\"text.txt\",\"w\",encoding='utf-8')as f:\n",
        "    f.write(str)"
      ],
      "metadata": {
        "colab": {
          "base_uri": "https://localhost:8080/"
        },
        "id": "9xxHKqGYtcxe",
        "outputId": "bbaac65f-0383-4ff0-a205-434e7fb6833a"
      },
      "execution_count": 14,
      "outputs": [
        {
          "output_type": "stream",
          "name": "stdout",
          "text": [
            "6\n",
            "///////////////\n"
          ]
        }
      ]
    },
    {
      "cell_type": "code",
      "source": [],
      "metadata": {
        "id": "q48nId1KugZE"
      },
      "execution_count": null,
      "outputs": []
    },
    {
      "cell_type": "code",
      "source": [],
      "metadata": {
        "id": "1Q8ltcCBugGt"
      },
      "execution_count": null,
      "outputs": []
    },
    {
      "cell_type": "code",
      "source": [],
      "metadata": {
        "id": "hJas8r0jtTMS"
      },
      "execution_count": null,
      "outputs": []
    }
  ]
}